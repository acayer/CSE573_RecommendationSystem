{
 "cells": [
  {
   "cell_type": "code",
   "execution_count": 274,
   "metadata": {},
   "outputs": [],
   "source": [
    "import pandas as pd\n",
    "import numpy as np\n",
    "# import surprise\n",
    "# from surprise import SVD\n",
    "# from surprise import Dataset\n",
    "# from surprise import accuracy\n",
    "# from surprise import Reader\n",
    "# from surprise.model_selection import GridSearchCV\n",
    "# from surprise.model_selection import train_test_split\n",
    "# from surprise.model_selection import cross_validate\n",
    "from collections import defaultdict\n",
    "from operator import itemgetter\n",
    "from sklearn.model_selection import train_test_split\n",
    "import tensorflow as tf\n",
    "from tensorflow.keras.models import Model, Sequential\n",
    "from tensorflow.keras.layers import Embedding, Flatten, Input, concatenate, Dropout, Dense, BatchNormalization, dot\n",
    "from tensorflow.keras.optimizers import Adam"
   ]
  },
  {
   "cell_type": "code",
   "execution_count": 275,
   "metadata": {},
   "outputs": [
    {
     "name": "stderr",
     "output_type": "stream",
     "text": [
      "C:\\Users\\aaron\\AppData\\Local\\Temp\\ipykernel_40864\\3800801622.py:4: ParserWarning: Falling back to the 'python' engine because the 'c' engine does not support regex separators (separators > 1 char and different from '\\s+' are interpreted as regex); you can avoid this warning by specifying engine='python'.\n",
      "  dataset = pd.read_csv('./ml-1m/ratings.dat', header=0, names=['user_id', 'movie_id', 'rating', 'timestamp'], sep=\"::\")\n"
     ]
    }
   ],
   "source": [
    "np.random.seed(1)\n",
    "tf.random.set_seed(1)\n",
    "\n",
    "dataset = pd.read_csv('./ml-1m/ratings.dat', header=0, names=['user_id', 'movie_id', 'rating', 'timestamp'], sep=\"::\")\n",
    "# dataset = pd.read_csv('u.data', sep='\\t', header=0, encoding=\"ISO-8859-1\", names=['user_id', 'movie_id', 'rating', 'timestamp'])\n",
    "\n",
    "# Need to map movie ID to [1, num_movies]\n",
    "movie_id_to_new_id = dict()\n",
    "id = 1\n",
    "for index, row in dataset.iterrows():\n",
    "    if movie_id_to_new_id.get(row['movie_id']) is None:\n",
    "        movie_id_to_new_id[row['movie_id']] = id\n",
    "        dataset.at[index, 'movie_id'] = id\n",
    "        id += 1\n",
    "    else:\n",
    "        dataset.at[index, 'movie_id'] = movie_id_to_new_id.get(row['movie_id'])\n",
    "\n",
    "num_users = len(dataset.user_id.unique())\n",
    "num_movies = len(dataset.movie_id.unique())\n",
    "train, test = train_test_split(dataset, test_size=0.2)"
   ]
  },
  {
   "cell_type": "code",
   "execution_count": 276,
   "metadata": {},
   "outputs": [
    {
     "name": "stdout",
     "output_type": "stream",
     "text": [
      "Model: \"model_13\"\n",
      "__________________________________________________________________________________________________\n",
      " Layer (type)                   Output Shape         Param #     Connected to                     \n",
      "==================================================================================================\n",
      " movie-input (InputLayer)       [(None, 1)]          0           []                               \n",
      "                                                                                                  \n",
      " user-input (InputLayer)        [(None, 1)]          0           []                               \n",
      "                                                                                                  \n",
      " movie-embedding-mlp (Embedding  (None, 1, 10)       37070       ['movie-input[0][0]']            \n",
      " )                                                                                                \n",
      "                                                                                                  \n",
      " user-embedding-mlp (Embedding)  (None, 1, 10)       60410       ['user-input[0][0]']             \n",
      "                                                                                                  \n",
      " flatten-movie-mlp (Flatten)    (None, 10)           0           ['movie-embedding-mlp[0][0]']    \n",
      "                                                                                                  \n",
      " flatten-user-mlp (Flatten)     (None, 10)           0           ['user-embedding-mlp[0][0]']     \n",
      "                                                                                                  \n",
      " concat (Concatenate)           (None, 20)           0           ['flatten-movie-mlp[0][0]',      \n",
      "                                                                  'flatten-user-mlp[0][0]']       \n",
      "                                                                                                  \n",
      " dropout_39 (Dropout)           (None, 20)           0           ['concat[0][0]']                 \n",
      "                                                                                                  \n",
      " fc-1 (Dense)                   (None, 100)          2100        ['dropout_39[0][0]']             \n",
      "                                                                                                  \n",
      " batch-norm-1 (BatchNormalizati  (None, 100)         400         ['fc-1[0][0]']                   \n",
      " on)                                                                                              \n",
      "                                                                                                  \n",
      " dropout_40 (Dropout)           (None, 100)          0           ['batch-norm-1[0][0]']           \n",
      "                                                                                                  \n",
      " fc-2 (Dense)                   (None, 50)           5050        ['dropout_40[0][0]']             \n",
      "                                                                                                  \n",
      " batch-norm-2 (BatchNormalizati  (None, 50)          200         ['fc-2[0][0]']                   \n",
      " on)                                                                                              \n",
      "                                                                                                  \n",
      " movie-embedding-mf (Embedding)  (None, 1, 10)       37070       ['movie-input[0][0]']            \n",
      "                                                                                                  \n",
      " user-embedding-mf (Embedding)  (None, 1, 10)        60410       ['user-input[0][0]']             \n",
      "                                                                                                  \n",
      " dropout_41 (Dropout)           (None, 50)           0           ['batch-norm-2[0][0]']           \n",
      "                                                                                                  \n",
      " flatten-movie-mf (Flatten)     (None, 10)           0           ['movie-embedding-mf[0][0]']     \n",
      "                                                                                                  \n",
      " flatten-user-mf (Flatten)      (None, 10)           0           ['user-embedding-mf[0][0]']      \n",
      "                                                                                                  \n",
      " fc-3 (Dense)                   (None, 10)           510         ['dropout_41[0][0]']             \n",
      "                                                                                                  \n",
      " pred-mf (Dot)                  (None, 1)            0           ['flatten-movie-mf[0][0]',       \n",
      "                                                                  'flatten-user-mf[0][0]']        \n",
      "                                                                                                  \n",
      " pred_mlp (Dense)               (None, 5)            55          ['fc-3[0][0]']                   \n",
      "                                                                                                  \n",
      " combine-mlp-mf (Concatenate)   (None, 6)            0           ['pred-mf[0][0]',                \n",
      "                                                                  'pred_mlp[0][0]']               \n",
      "                                                                                                  \n",
      " result (Dense)                 (None, 1)            7           ['combine-mlp-mf[0][0]']         \n",
      "                                                                                                  \n",
      "==================================================================================================\n",
      "Total params: 203,282\n",
      "Trainable params: 202,982\n",
      "Non-trainable params: 300\n",
      "__________________________________________________________________________________________________\n"
     ]
    },
    {
     "name": "stderr",
     "output_type": "stream",
     "text": [
      "c:\\Users\\aaron\\anaconda3\\lib\\site-packages\\keras\\optimizers\\optimizer_v2\\adam.py:114: UserWarning: The `lr` argument is deprecated, use `learning_rate` instead.\n",
      "  super().__init__(name, **kwargs)\n"
     ]
    }
   ],
   "source": [
    "latent_dim = 10\n",
    "\n",
    "# Define inputs\n",
    "movie_input = Input(shape=[1],name='movie-input')\n",
    "user_input = Input(shape=[1], name='user-input')\n",
    "\n",
    "# MLP Embeddings\n",
    "movie_embedding_mlp = Embedding(num_movies + 1, latent_dim, name='movie-embedding-mlp')(movie_input)\n",
    "movie_vec_mlp = Flatten(name='flatten-movie-mlp')(movie_embedding_mlp)\n",
    "\n",
    "user_embedding_mlp = Embedding(num_users + 1, latent_dim, name='user-embedding-mlp')(user_input)\n",
    "user_vec_mlp = Flatten(name='flatten-user-mlp')(user_embedding_mlp)\n",
    "\n",
    "# MF Embeddings\n",
    "movie_embedding_mf = Embedding(num_movies + 1, latent_dim, name='movie-embedding-mf')(movie_input)\n",
    "movie_vec_mf = Flatten(name='flatten-movie-mf')(movie_embedding_mf)\n",
    "\n",
    "user_embedding_mf = Embedding(num_users + 1, latent_dim, name='user-embedding-mf')(user_input)\n",
    "user_vec_mf = Flatten(name='flatten-user-mf')(user_embedding_mf)\n",
    "\n",
    "# MLP layers\n",
    "concat = concatenate([movie_vec_mlp, user_vec_mlp], name='concat')\n",
    "concat_dropout = Dropout(0.2)(concat)\n",
    "fc_1 = Dense(100, name='fc-1', activation='relu')(concat_dropout)\n",
    "fc_1_bn = BatchNormalization(name='batch-norm-1')(fc_1)\n",
    "fc_1_dropout = Dropout(0.2)(fc_1_bn)\n",
    "fc_2 = Dense(50, name='fc-2', activation='relu')(fc_1_dropout)\n",
    "fc_2_bn = BatchNormalization(name='batch-norm-2')(fc_2)\n",
    "fc_2_dropout = Dropout(0.2)(fc_2_bn)\n",
    "\n",
    "# Prediction from both layers\n",
    "fc_3 = Dense(10, name='fc-3', activation='relu')(fc_2_dropout)\n",
    "pred_mlp = Dense(5, name='pred_mlp', activation='relu')(fc_3)\n",
    "pred_mf = dot([movie_vec_mf, user_vec_mf], axes=1, name='pred-mf')\n",
    "# pred_mf = tf.multiply(movie_vec_mf, user_vec_mf)\n",
    "combine_mlp_mf = concatenate([pred_mf, pred_mlp], name='combine-mlp-mf')\n",
    "\n",
    "# Final prediction\n",
    "result = Dense(1, name='result', kernel_initializer='lecun_uniform')(combine_mlp_mf)\n",
    "\n",
    "model = Model([user_input, movie_input], result)\n",
    "model.compile(optimizer=Adam(lr=0.001), loss='mean_absolute_error')\n",
    "#SVG(tensorflow.keras.utils.model_to_dot(model, show_shapes=True).create(prog='dot', format='svg'))\n",
    "\n",
    "model.summary()"
   ]
  },
  {
   "cell_type": "code",
   "execution_count": 277,
   "metadata": {},
   "outputs": [
    {
     "name": "stdout",
     "output_type": "stream",
     "text": [
      "Epoch 1/10\n",
      "25006/25006 [==============================] - 47s 2ms/step - loss: 0.7789\n",
      "Epoch 2/10\n",
      "25006/25006 [==============================] - 47s 2ms/step - loss: 0.6946\n",
      "Epoch 3/10\n",
      "25006/25006 [==============================] - 46s 2ms/step - loss: 0.6660\n",
      "Epoch 4/10\n",
      "25006/25006 [==============================] - 47s 2ms/step - loss: 0.6489\n",
      "Epoch 5/10\n",
      "25006/25006 [==============================] - 46s 2ms/step - loss: 0.6383\n",
      "Epoch 6/10\n",
      "25006/25006 [==============================] - 49s 2ms/step - loss: 0.6304\n",
      "Epoch 7/10\n",
      "25006/25006 [==============================] - 52s 2ms/step - loss: 0.6247\n",
      "Epoch 8/10\n",
      "25006/25006 [==============================] - 51s 2ms/step - loss: 0.6198\n",
      "Epoch 9/10\n",
      "25006/25006 [==============================] - 49s 2ms/step - loss: 0.6159\n",
      "Epoch 10/10\n",
      "25006/25006 [==============================] - 49s 2ms/step - loss: 0.6124\n"
     ]
    },
    {
     "data": {
      "image/png": "[encoded data removed]",
      "text/plain": [
       "<Figure size 640x480 with 1 Axes>"
      ]
     },
     "metadata": {},
     "output_type": "display_data"
    },
    {
     "name": "stdout",
     "output_type": "stream",
     "text": [
      "6252/6252 [==============================] - 4s 621us/step\n",
      "0.7937339206082352\n"
     ]
    },
    {
     "name": "stderr",
     "output_type": "stream",
     "text": [
      "WARNING:absl:Function `_wrapped_model` contains input name(s) user-input, movie-input with unsupported characters which will be renamed to user_input, movie_input in the SavedModel.\n"
     ]
    },
    {
     "name": "stdout",
     "output_type": "stream",
     "text": [
      "INFO:tensorflow:Assets written to: Trained Model\\assets\n"
     ]
    },
    {
     "name": "stderr",
     "output_type": "stream",
     "text": [
      "INFO:tensorflow:Assets written to: Trained Model\\assets\n"
     ]
    }
   ],
   "source": [
    "import matplotlib.pyplot as plt\n",
    "from sklearn.metrics import mean_absolute_error, mean_squared_error\n",
    "history = model.fit([train.user_id, train.movie_id], train.rating, epochs=10)\n",
    "pd.Series(history.history['loss']).plot(logy=True)\n",
    "plt.xlabel(\"Epoch\")\n",
    "plt.ylabel(\"Train Error\")\n",
    "plt.show()\n",
    "\n",
    "y_hat = np.round(model.predict([test.user_id, test.movie_id]), decimals=2)\n",
    "y_true = np.reshape(test.rating.to_numpy(), np.shape(y_hat))\n",
    "mean_squared_error(y_true, y_hat, squared=False)\n",
    "error = (np.subtract(y_hat, y_true) ** 2).sum() / len(test)\n",
    "print(error)    \n",
    "\n",
    "model.save('Trained Model')"
   ]
  },
  {
   "cell_type": "code",
   "execution_count": 279,
   "metadata": {},
   "outputs": [
    {
     "name": "stdout",
     "output_type": "stream",
     "text": [
      "20\n",
      "3706\n"
     ]
    }
   ],
   "source": [
    "m = list(i[0] for i in y_hat.tolist())\n",
    "m.sort(reverse=True)\n",
    "print(m)\n",
    "print(len(list(set(test['movie_id']).difference(train['movie_id']))))\n",
    "print(len(set(dataset.movie_id)))"
   ]
  },
  {
   "cell_type": "code",
   "execution_count": 280,
   "metadata": {},
   "outputs": [],
   "source": [
    "def recommend(user_id):\n",
    "    unrated = list(set(dataset.movie_id).difference(set(train.loc[train['user_id'] == user_id].movie_id)))\n",
    "    user = pd.Series(data=[user_id] * len(unrated))\n",
    "    movie = pd.Series(data=unrated)\n",
    "\n",
    "    y_hat = np.round(model.predict([user, movie]), decimals=2)\n",
    "    pred_ratings = list(zip(unrated, (i[0] for i in y_hat.tolist())))\n",
    "    pred_ratings.sort(key = lambda x: x[1], reverse=True)\n",
    "    return pred_ratings[:10]"
   ]
  }
 ],
 "metadata": {
  "kernelspec": {
   "display_name": "base",
   "language": "python",
   "name": "python3"
  },
  "language_info": {
   "codemirror_mode": {
    "name": "ipython",
    "version": 3
   },
   "file_extension": ".py",
   "mimetype": "text/x-python",
   "name": "python",
   "nbconvert_exporter": "python",
   "pygments_lexer": "ipython3",
   "version": "3.9.13"
  },
  "orig_nbformat": 4,
  "vscode": {
   "interpreter": {
    "hash": "f99ce459c7a0f9093dec66807a6e7241d1f758b2e574ff2d27df5e1d05a50f5b"
   }
  }
 },
 "nbformat": 4,
 "nbformat_minor": 2
}
